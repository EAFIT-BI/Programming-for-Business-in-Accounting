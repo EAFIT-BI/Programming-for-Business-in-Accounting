{
  "nbformat": 4,
  "nbformat_minor": 0,
  "metadata": {
    "colab": {
      "provenance": [],
      "authorship_tag": "ABX9TyNpJB3pelWxnAYHaoRzojsL",
      "include_colab_link": true
    },
    "kernelspec": {
      "name": "python3",
      "display_name": "Python 3"
    },
    "language_info": {
      "name": "python"
    }
  },
  "cells": [
    {
      "cell_type": "markdown",
      "metadata": {
        "id": "view-in-github",
        "colab_type": "text"
      },
      "source": [
        "<a href=\"https://colab.research.google.com/github/EAFIT-BI/Programming-for-Business-in-Accounting/blob/main/Simulacro_evento_evaluativo.ipynb\" target=\"_parent\"><img src=\"https://colab.research.google.com/assets/colab-badge.svg\" alt=\"Open In Colab\"/></a>"
      ]
    },
    {
      "cell_type": "markdown",
      "source": [
        "#Simulacro evento evaluativo\n",
        "\n",
        "Por favor sigue las instrucciones para completar el evento evaluativo. No elimines ninguna de las líneas de código que se encuentran escritas. Agrega tu código en el espacio indicado.\n"
      ],
      "metadata": {
        "id": "DvYA6oQk-ZMh"
      }
    },
    {
      "cell_type": "code",
      "execution_count": null,
      "metadata": {
        "id": "IbHM4wpR-UNM"
      },
      "outputs": [],
      "source": [
        "%run -i Simulacro_evento_evaluativo.ipynb\n",
        "\n",
        "def crear_dataframe():\n",
        "  data = #espacio para tu código\n",
        "  return data\n",
        "\n",
        "def seleccionar_dato():\n",
        "  dato = #espacio para tu código\n",
        "  return dato"
      ]
    }
  ]
}