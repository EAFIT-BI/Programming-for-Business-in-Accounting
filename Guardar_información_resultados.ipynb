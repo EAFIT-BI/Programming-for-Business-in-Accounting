{
  "nbformat": 4,
  "nbformat_minor": 0,
  "metadata": {
    "colab": {
      "provenance": [],
      "authorship_tag": "ABX9TyMt4eg/DSID1l0wCZe46UQ0",
      "include_colab_link": true
    },
    "kernelspec": {
      "name": "python3",
      "display_name": "Python 3"
    },
    "language_info": {
      "name": "python"
    }
  },
  "cells": [
    {
      "cell_type": "markdown",
      "metadata": {
        "id": "view-in-github",
        "colab_type": "text"
      },
      "source": [
        "<a href=\"https://colab.research.google.com/github/EAFIT-BI/Programming-for-Business-in-Accounting-2024-1/blob/main/Guardar_informaci%C3%B3n_resultados.ipynb\" target=\"_parent\"><img src=\"https://colab.research.google.com/assets/colab-badge.svg\" alt=\"Open In Colab\"/></a>"
      ]
    },
    {
      "cell_type": "markdown",
      "source": [
        "# Almacenamiento\n",
        "Una vez hemos procesado la información, puede ser de utilidad guardarla nuevamente."
      ],
      "metadata": {
        "id": "wsdeZhUm8sVU"
      }
    },
    {
      "cell_type": "code",
      "source": [
        "#Para este ejemplo, leeremos, transformaremos y guardaremos\n",
        "#la información transformada\n",
        "\n",
        "#importamos librerías\n",
        "import pandas as pd\n",
        "\n",
        "#leemos los datos\n",
        "data = pd.read_excel(\"/content/LibroDiario.xlsx\")\n",
        "\n",
        "#visualizamos para comprobar la integridad de los datos\n",
        "data.head(3)"
      ],
      "metadata": {
        "id": "GF5FlwHk-noc"
      },
      "execution_count": null,
      "outputs": []
    },
    {
      "cell_type": "markdown",
      "source": [
        "## 1. Guardar 1 hoja en 1 libro de Excel.\n",
        "\n",
        "En este caso, solo haremos un transformación y guardaremos el resultado en un libro de Excel."
      ],
      "metadata": {
        "id": "5A3bHLYV_SID"
      }
    },
    {
      "cell_type": "code",
      "source": [
        "# vamos a agrupar por naturaleza y calcularemos\n",
        "# el promedio en el débito y en el crédito\n",
        "\n",
        "grouped_data = data[['Débito', 'Crédito', 'Naturaleza']].groupby('Naturaleza').mean()\n",
        "\n",
        "#visualizamos el resultado\n",
        "grouped_data"
      ],
      "metadata": {
        "id": "yv0IFs6P_d7W"
      },
      "execution_count": null,
      "outputs": []
    },
    {
      "cell_type": "code",
      "source": [
        "data.columns"
      ],
      "metadata": {
        "colab": {
          "base_uri": "https://localhost:8080/"
        },
        "id": "l0pytl2JCzgt",
        "outputId": "84bedf7d-33fc-44e7-8bc3-96efa3e5c3e5"
      },
      "execution_count": 5,
      "outputs": [
        {
          "output_type": "execute_result",
          "data": {
            "text/plain": [
              "Index(['# Trans.', 'Fecha', 'Nombre Cta', 'Descripción T.', 'Débito',\n",
              "       'Crédito', 'A - PS - PT', 'Naturaleza'],\n",
              "      dtype='object')"
            ]
          },
          "metadata": {},
          "execution_count": 5
        }
      ]
    },
    {
      "cell_type": "code",
      "source": [
        "#almacenamos la información en un archivo de Excel\n",
        "grouped_data.to_excel('resultado.xlsx', index = True, sheet_name = \"Consolidado\")"
      ],
      "metadata": {
        "id": "bkWJY0zIAgSy"
      },
      "execution_count": 4,
      "outputs": []
    },
    {
      "cell_type": "markdown",
      "source": [
        "## 2.  Varias hojas, 1 libro de Excel\n",
        "\n",
        "Usualmente realizamos varias transformaciones sobre los datos y deseamos almacenarlas de forma organizada en un solo archivo, para ello debemos recurrir a la función `ExcelWriter`"
      ],
      "metadata": {
        "id": "itOPqgbgB-sI"
      }
    },
    {
      "cell_type": "code",
      "source": [
        "# operación 1: seleccionaremos todos los activos no corrientes\n",
        "operacion1 = data[data['A - PS - PT'] == 'ANC']\n",
        "operacion1"
      ],
      "metadata": {
        "id": "f6_7pqt9CaRr"
      },
      "execution_count": null,
      "outputs": []
    },
    {
      "cell_type": "code",
      "source": [
        "# operación 2:  seleccionamos todas las transacciones del 07 de marzo de 2022\n",
        "operacion2 = data[data['Fecha'] == '2022-03-07']\n",
        "operacion2"
      ],
      "metadata": {
        "id": "gtj9Z-X1DKmp"
      },
      "execution_count": null,
      "outputs": []
    },
    {
      "cell_type": "code",
      "source": [
        "# operación 3: seleccionamos los registros con  el nombre de la\n",
        "# cuenta que más se repita\n",
        "\n",
        "operacion3 = data[data['Nombre Cta'] == data['Nombre Cta'].mode()[0]]\n",
        "operacion3"
      ],
      "metadata": {
        "id": "p5xEfQFLDfQt"
      },
      "execution_count": null,
      "outputs": []
    },
    {
      "cell_type": "code",
      "source": [
        "with pd.ExcelWriter('Operaciones.xlsx') as writer:\n",
        "  operacion1.to_excel(writer, sheet_name = 'ANC')\n",
        "  operacion2.to_excel(writer, sheet_name = 'marzo2022')\n",
        "  operacion3.to_excel(writer, sheet_name = 'Cuentas por pagar')"
      ],
      "metadata": {
        "id": "EeC2SgPTFg4g"
      },
      "execution_count": 18,
      "outputs": []
    }
  ]
}