{
  "cells": [
    {
      "cell_type": "markdown",
      "metadata": {
        "id": "pluaLCsHVeWO"
      },
      "source": [
        "# Creación de DataFrames\n",
        "\n",
        "Los DataFrames en python suelen tener dos dimensiones y en ellos se almacena la información en forma estructurada. La primera dimensión son las **filas**, y corresponden al *axis = 0*. La segunda dimensión son las **columnas** y corresponden al *axis = 1*. La librería que se requiere para el uso de DataFrames o tablas en Python es `pandas`"
      ]
    },
    {
      "cell_type": "code",
      "execution_count": 1,
      "metadata": {
        "id": "Sv-Ek5A4W_EV"
      },
      "outputs": [],
      "source": [
        "# Importamos las librerías necesarias\n",
        "\n",
        "import pandas as pd #importo la librería pandas y le pongo el alias pd"
      ]
    },
    {
      "cell_type": "code",
      "execution_count": 2,
      "metadata": {
        "id": "Sz2qGK2LYR4W"
      },
      "outputs": [],
      "source": [
        "# Creamos un nuevo DataFrame a partir de listas\n",
        "\n",
        "estaturas = pd.DataFrame([[\"Lina\", 159, 41], [\"Cristobal\", 186, 17], [\"Juan David\", 150, 16],\n",
        "                          [\"Andrea\", 154, 17], [\"Ángel\", 170, 17], [\"Gustavo\", 168, 24],\n",
        "                          [\"Mateo\", 170, 16], [\"Cristian\", 165, 17], [\"Marilyn\", 155, 20],\n",
        "                          [\"Yuliana\", 160, 16], [\"Salomón\", 177, 18], [\"Juan Pablo\", 173, 17],\n",
        "                          [\"Valentina\", 167, 18], [\"Gabriel\", 181, 19], [\"Juan Felipe\", 177, 21],\n",
        "                          [\"Mariana\", 155, 22], [\"Ximena\", 155, 17], [\"Karen\", 168, 16],\n",
        "                          [\"Manuel\", 170, 21]], columns = ['Nombre', 'Estatura', 'Edad'])"
      ]
    },
    {
      "cell_type": "code",
      "execution_count": null,
      "metadata": {
        "id": "Q9hc9x_XZxXt"
      },
      "outputs": [],
      "source": [
        "estaturas #impresión implícita"
      ]
    },
    {
      "cell_type": "code",
      "execution_count": null,
      "metadata": {
        "id": "uz-a9roRc5Kr"
      },
      "outputs": [],
      "source": [
        "print(estaturas) #impresión explícita"
      ]
    },
    {
      "cell_type": "code",
      "execution_count": 5,
      "metadata": {
        "id": "2_WXTwbefKVf"
      },
      "outputs": [],
      "source": [
        "# Creamos un DataFrame a partir de diccionarios\n",
        "\n",
        "estaturas_diccionarios = pd.DataFrame({\"Nombre\": [\"Lina\", \"Cristobal\", \"Juan David\",\n",
        "                                                   \"Andrea\", \"Ángel\", \"Gustavo\",\n",
        "                                                   \"Mateo\", \"Cristian\", \"Marilyn\",\n",
        "                                                   \"Yuliana\", \"Salomón\",\n",
        "                                                   \"Juan Pablo\", \"Valentina\", \"Gabriel\",\n",
        "                                                   \"Juan Felipe\", \"Mariana\", \"Ximena\",\n",
        "                                                   \"Karen\", \"Manuel\"],\n",
        "                                        \"Color\": [\"Negro\", \"Verde\", \"Negro\", \"Azul\",\n",
        "                                                  \"Blanco\", \"Rojo\", \"Rojo\", \"Azul\",\n",
        "                                                  \"Morado\", \"Rosado\", \"Verde\", \"Rojo\",\n",
        "                                                  \"Lila\", \"Naranja\", \"Negro\", \"Negro\",\n",
        "                                                  \"Negro\", \"Negro\", \"Verde\"]})"
      ]
    },
    {
      "cell_type": "code",
      "execution_count": null,
      "metadata": {
        "id": "jdEhe9FVhjHE"
      },
      "outputs": [],
      "source": [
        "estaturas_diccionarios"
      ]
    },
    {
      "cell_type": "markdown",
      "source": [
        "## Index o índice\n",
        "\n",
        "Es un número que se genera de forma automática y que numera las filas de las tablas. Podemos cambiar el índice con la función `set_index`"
      ],
      "metadata": {
        "id": "9OTdlLaDZfPE"
      }
    },
    {
      "cell_type": "code",
      "source": [
        "#fijamos el índice para la tabla actual.\n",
        "#el set_index debe contener el o los nombres de las columnas\n",
        "#que quiero fijar como índices\n",
        "\n",
        "estaturas_diccionarios = estaturas_diccionarios.set_index(\"Nombre\")\n",
        "estaturas_diccionarios"
      ],
      "metadata": {
        "id": "hgyKPsQsZ2RW"
      },
      "execution_count": null,
      "outputs": []
    },
    {
      "cell_type": "markdown",
      "source": [
        "# Lectura de archivos en excel\n",
        "\n",
        "Para la generación de tablas a partir de archivos ya existes en excel, usamos la función `read_excel`. En caso de que tengamos un archivo tipo `csv` usamos el mismo procedimiento pero con la función `read_csv`."
      ],
      "metadata": {
        "id": "AM2yfR2qc8nw"
      }
    },
    {
      "cell_type": "code",
      "source": [
        "# hacemos la lectura del archivo ubicado en el directorio\n",
        "# temporal de colab\n",
        "\n",
        "datos = pd.read_excel(\"/content/LibroDiario.xlsx\")\n",
        "\n",
        "#visualizamos los 3 primeros registros o filas de los datos\n",
        "datos.head(3)"
      ],
      "metadata": {
        "id": "-lYbSF92djg3"
      },
      "execution_count": null,
      "outputs": []
    },
    {
      "cell_type": "code",
      "source": [
        "#visualizamos los 6 últimos registros o filas de los datos\n",
        "datos.tail(6)"
      ],
      "metadata": {
        "id": "Yy-m67a5edgY"
      },
      "execution_count": null,
      "outputs": []
    },
    {
      "cell_type": "code",
      "source": [
        "#visualizamos la cantidad máxima de registros permitida\n",
        "datos"
      ],
      "metadata": {
        "id": "8l8iJevGelx7"
      },
      "execution_count": null,
      "outputs": []
    },
    {
      "cell_type": "markdown",
      "source": [
        "# Agrupaciones\n",
        "\n",
        "Sirven para agrupar datos de acuerdo a algunas de las columnas o filas de la tabla. La idea siempre es que cada agrupación esté acompañada de una medida."
      ],
      "metadata": {
        "id": "vaF8nRtWe-dn"
      }
    },
    {
      "cell_type": "code",
      "source": [
        "#para nuestro ejemplo, agruparemos primero la tabla por Naturaleza\n",
        "\n",
        "datos_agrupados = datos.groupby(\"Naturaleza\")\n",
        "\n",
        "#generamos la medida Crédito\n",
        "\n",
        "credito = datos_agrupados[\"Crédito\"].sum()\n",
        "\n",
        "#generamos la medida Débito\n",
        "\n",
        "debito = datos_agrupados[\"Débito\"].sum()\n"
      ],
      "metadata": {
        "id": "P8eKllhwgIMs"
      },
      "execution_count": 16,
      "outputs": []
    },
    {
      "cell_type": "code",
      "source": [
        "#visualizamos el resultado\n",
        "print(credito)\n",
        "print(debito)"
      ],
      "metadata": {
        "id": "v08HbQqph515",
        "outputId": "37e38e9d-cfd6-4a18-842b-9a7d4d97211e",
        "colab": {
          "base_uri": "https://localhost:8080/"
        }
      },
      "execution_count": 17,
      "outputs": [
        {
          "output_type": "stream",
          "name": "stdout",
          "text": [
            "Naturaleza\n",
            "CR    864500000\n",
            "DB    188400000\n",
            "Name: Crédito, dtype: int64\n",
            "Naturaleza\n",
            "CR    112400000\n",
            "DB    940500000\n",
            "Name: Débito, dtype: int64\n"
          ]
        }
      ]
    },
    {
      "cell_type": "code",
      "source": [
        "# Vamos a agrupar por A - PS -PT y vamos a calcular el promedio del\n",
        "#crédito\n",
        "\n",
        "#genero la agrupación\n",
        "datos_tipologia = datos.groupby(\"A - PS - PT\")\n",
        "\n",
        "#calculamos la medida y la visualizamos\n",
        "datos_tipologia[\"Crédito\"].sum()"
      ],
      "metadata": {
        "id": "nijUaJ4_jaP5",
        "outputId": "91617f68-4505-4eca-807a-d73788084946",
        "colab": {
          "base_uri": "https://localhost:8080/"
        }
      },
      "execution_count": 22,
      "outputs": [
        {
          "output_type": "execute_result",
          "data": {
            "text/plain": [
              "A - PS - PT\n",
              "AC            188400000\n",
              "ANC                   0\n",
              "ER-Costo              0\n",
              "ER-Gastos             0\n",
              "ER-Ingreso    145000000\n",
              "PCP           119500000\n",
              "PT            600000000\n",
              "Name: Crédito, dtype: int64"
            ]
          },
          "metadata": {},
          "execution_count": 22
        }
      ]
    }
  ],
  "metadata": {
    "colab": {
      "provenance": [],
      "mount_file_id": "1smYGCfDmq1uA1gWECRPAbqjxZOsU2Z3R",
      "authorship_tag": "ABX9TyNxMI40o+QzwAJtIuRHSLbK"
    },
    "kernelspec": {
      "display_name": "Python 3",
      "name": "python3"
    },
    "language_info": {
      "name": "python",
      "version": "3.9.13"
    }
  },
  "nbformat": 4,
  "nbformat_minor": 0
}