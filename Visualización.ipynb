{
  "nbformat": 4,
  "nbformat_minor": 0,
  "metadata": {
    "colab": {
      "provenance": [],
      "authorship_tag": "ABX9TyMneEVYefQmt4sgARr5F7AJ",
      "include_colab_link": true
    },
    "kernelspec": {
      "name": "python3",
      "display_name": "Python 3"
    },
    "language_info": {
      "name": "python"
    }
  },
  "cells": [
    {
      "cell_type": "markdown",
      "metadata": {
        "id": "view-in-github",
        "colab_type": "text"
      },
      "source": [
        "<a href=\"https://colab.research.google.com/github/EAFIT-BI/Programming-for-Business-in-Accounting-2024-1/blob/main/Visualizaci%C3%B3n.ipynb\" target=\"_parent\"><img src=\"https://colab.research.google.com/assets/colab-badge.svg\" alt=\"Open In Colab\"/></a>"
      ]
    },
    {
      "cell_type": "markdown",
      "source": [
        "#Visualización de información"
      ],
      "metadata": {
        "id": "mNafKPmI1x8g"
      }
    },
    {
      "cell_type": "markdown",
      "source": [
        "## Visualización de un solo gráfico"
      ],
      "metadata": {
        "id": "6VbSfmZ87IGB"
      }
    },
    {
      "cell_type": "code",
      "execution_count": 1,
      "metadata": {
        "id": "AUQf9isWzWzp"
      },
      "outputs": [],
      "source": [
        "import numpy as np #manejo numérico\n",
        "import matplotlib.pyplot as plt #manejo gráfico"
      ]
    },
    {
      "cell_type": "code",
      "source": [
        "# creamos un primer vector que indique los años\n",
        "\n",
        "años = np.array([2018, 2019, 2020, 2021, 2022, 2023])\n",
        "\n",
        "# creamos un segundo vector que indique el patrimonio\n",
        "#(en miles de dólares)\n",
        "\n",
        "patrimonio = np.array([200, 183, 100, 127, 200, 350])"
      ],
      "metadata": {
        "id": "58AIKCiR2YON"
      },
      "execution_count": null,
      "outputs": []
    },
    {
      "cell_type": "code",
      "source": [
        "#configuración de las fuentes\n",
        "font1 = {'family': 'serif', 'color': 'blue', 'size':18} #definimos la primera fuente\n",
        "font2 = {'family': 'serif', 'color': 'darkred', 'size':15} #definimos la segunda fuente"
      ],
      "metadata": {
        "id": "TzLB60Ry48i5"
      },
      "execution_count": null,
      "outputs": []
    },
    {
      "cell_type": "code",
      "source": [
        "plt.plot(años, patrimonio, color = 'black') #traza el gráfico\n",
        "plt.grid() #genera la cuadrícula\n",
        "plt.xlabel(\"Año\", fontdict = font2) #título del eje x\n",
        "plt.ylabel(\"Patrimonio\", fontdict = font2) #título del eje y\n",
        "plt.title(\"Evolución del patrimonio de la empresa ACME\", fontdict = font1) #título gráfico\n",
        "plt.show() #muestra el gráfico"
      ],
      "metadata": {
        "id": "drkm190g3U9d"
      },
      "execution_count": null,
      "outputs": []
    },
    {
      "cell_type": "markdown",
      "source": [
        "## Visualización de dos gráficos en un solo plot"
      ],
      "metadata": {
        "id": "9Q5lQCq87TqC"
      }
    },
    {
      "cell_type": "code",
      "source": [
        "# creamos un primer vector que indique los años\n",
        "\n",
        "años = np.array([2018, 2019, 2020, 2021, 2022, 2023])\n",
        "\n",
        "# creamos un segundo vector que indique el patrimonio\n",
        "#(en miles de dólares)\n",
        "\n",
        "patrimonio = np.array([200, 183, 100, 127, 200, 350])\n",
        "\n",
        "# creamos un tercer vector que indique las ventas\n",
        "#(en miles de dólares)\n",
        "\n",
        "ventas = np.array([500, 420, 305, 1000, 5000, 1001])"
      ],
      "metadata": {
        "id": "iwTOeNtz7YVh"
      },
      "execution_count": null,
      "outputs": []
    },
    {
      "cell_type": "code",
      "source": [
        "#generamos el primer gráfico\n",
        "plt.plot(años, patrimonio, label = \"Patrimonio\", color = 'pink')\n",
        "\n",
        "#generamos el segundo gráfico\n",
        "plt.plot(años, ventas, label = \"Ventas\", color = 'purple')\n",
        "\n",
        "#etiquetamos el eje x\n",
        "plt.xlabel(\"Año\")\n",
        "\n",
        "#etiquetamos el eje y\n",
        "plt.ylabel('Miles de dólares [USD$]')\n",
        "\n",
        "#establecemos el título\n",
        "plt.title(\"Movimientos empresa A.C.M.E.\")\n",
        "\n",
        "#agregamos la cuadrícula\n",
        "plt.grid()\n",
        "\n",
        "#agregamos la leyenda al gráfico\n",
        "plt.legend()\n",
        "plt.show()"
      ],
      "metadata": {
        "id": "c3DOE4898DrA"
      },
      "execution_count": null,
      "outputs": []
    },
    {
      "cell_type": "markdown",
      "source": [
        "## Gráficos de dispersión"
      ],
      "metadata": {
        "id": "tIRSVAgN-XEs"
      }
    },
    {
      "cell_type": "code",
      "source": [
        "# creamos los datos\n",
        "\n",
        "edad = np.array([41, 22, 17, 20, 24, 18])\n",
        "\n",
        "estatura = np.array([1.59, 1.54, 1.40, 1.53, 1.62, 1.85])\n",
        "\n",
        "# definimos el gráfico\n",
        "\n",
        "plt.scatter(estatura, edad, c = 'pink', marker = '*', alpha = 0.5)\n",
        "\n",
        "# nombramos los ejes\n",
        "\n",
        "plt.xlabel(\"Estatura en metros\")\n",
        "plt.ylabel(\"Edades en años\")\n",
        "\n",
        "#nombramos el gráfico\n",
        "\n",
        "plt.title(\"Edad vs Estatura\")\n",
        "plt.grid()\n",
        "plt.show()"
      ],
      "metadata": {
        "colab": {
          "base_uri": "https://localhost:8080/",
          "height": 472
        },
        "id": "RxR8_veV-dyH",
        "outputId": "00c363de-49ce-4978-8dc0-7c1d86dcb7ef"
      },
      "execution_count": null,
      "outputs": [
        {
          "output_type": "display_data",
          "data": {
            "text/plain": [
              "<Figure size 640x480 with 1 Axes>"
            ],
            "image/png": "[encoded data removed]"
          },
          "metadata": {}
        }
      ]
    },
    {
      "cell_type": "markdown",
      "source": [
        "## Diagrama de barras"
      ],
      "metadata": {
        "id": "jtPwJ-TW4CvI"
      }
    },
    {
      "cell_type": "code",
      "source": [
        "#cargamos las librerías en caso de que se haya cerrado la sesión\n",
        "import matplotlib.pyplot as plt\n",
        "\n",
        "#generamos las listas o los datos a graficar\n",
        "edades = [16,17, 18, 19, 20, 21, 22, 23, 24]\n",
        "frecuencia = [2, 5, 3, 0, 1, 1, 0, 0, 1]\n",
        "\n",
        "#graficamos la edad y la frecuencia de aparición, esto se hará con\n",
        "#un diagrama de barras pero también se haríacon un histograma\n",
        "plt.bar(edades, frecuencia, color ='violet')\n",
        "\n",
        "#nombramos los ejes\n",
        "plt.xlabel(\"Edades\")\n",
        "plt.ylabel(\"Número de estudiantes\")\n",
        "plt.xticks([16,17, 18, 19, 20, 21, 22, 23, 24])\n",
        "\n",
        "#nombramos el gráfico\n",
        "plt.title(\"Distribución de edades en los estudiantes de Programación\")\n",
        "plt.show()"
      ],
      "metadata": {
        "id": "aEuoT5-T4fNu"
      },
      "execution_count": null,
      "outputs": []
    },
    {
      "cell_type": "markdown",
      "source": [
        "## Diagrama de torta"
      ],
      "metadata": {
        "id": "t3Xng_Au7vCt"
      }
    },
    {
      "cell_type": "code",
      "source": [
        "#Creamos los datos, continuamos con nuestra empresa\n",
        "\n",
        "fuentes = ['Ventas', 'Arrendamientos', 'Inversiones', 'Otros']\n",
        "dinero = [0.5, 0.1, 0.05, 0.35]\n",
        "\n",
        "#Graficamos el diagrama de torta\n",
        "plt.pie(dinero, labels = fuentes, colors = ['r', 'g', 'b', 'y'],\n",
        "        startangle = 90, shadow = True, explode = (0, 0, 0.1, 0),\n",
        "        autopct = '%1.1f%%')\n",
        "#título\n",
        "plt.title(\"Distribución de los ingresos empresa A.C.M.E\")\n",
        "plt.show()"
      ],
      "metadata": {
        "id": "g6zm7eY075D0"
      },
      "execution_count": null,
      "outputs": []
    },
    {
      "cell_type": "markdown",
      "source": [
        "#Histograma\n",
        "\n",
        "La diferencia entre el histograma y el diagrama de barras es que el primero grafica solo una variable y el segundo grafica la relación entre dos variables"
      ],
      "metadata": {
        "id": "rItgHqAv-gKF"
      }
    },
    {
      "cell_type": "code",
      "source": [
        "#creamos los datos\n",
        "notas_matemáticas = [4, 4.5, 4, 4, 4.5, 4.5, 4.5, 5, 3, 3, 1, 1]\n",
        "\n",
        "#creamos los bins, agrupaciones o barritas\n",
        "bins = [1, 2, 3, 4, 5]\n",
        "\n",
        "#graficamos el histograma\n",
        "plt.hist(notas_matemáticas, bins, rwidth = 1, color = \"magenta\")\n",
        "\n",
        "#agregamos los títulos a los ejes y al gráfico\n",
        "plt.xlabel(\"Notas de la asignatura Matemáticas\")\n",
        "plt.ylabel(\"Frecuencia\")\n",
        "plt.title(\"Distribución de las notas para Matemáticas\")\n",
        "\n",
        "plt.show()"
      ],
      "metadata": {
        "id": "VqlQ25SsAN5h",
        "outputId": "4e6d37bc-55d6-476e-9fed-0e4847cef4f1",
        "colab": {
          "base_uri": "https://localhost:8080/",
          "height": 473
        }
      },
      "execution_count": 28,
      "outputs": [
        {
          "output_type": "display_data",
          "data": {
            "text/plain": [
              "<Figure size 640x480 with 1 Axes>"
            ],
            "image/png": "[encoded data removed]"
          },
          "metadata": {}
        }
      ]
    }
  ]
}