{
  "nbformat": 4,
  "nbformat_minor": 0,
  "metadata": {
    "colab": {
      "provenance": [],
      "authorship_tag": "ABX9TyNl6a/HqtzVIJS/nCkZ70+x",
      "include_colab_link": true
    },
    "kernelspec": {
      "name": "python3",
      "display_name": "Python 3"
    },
    "language_info": {
      "name": "python"
    }
  },
  "cells": [
    {
      "cell_type": "markdown",
      "metadata": {
        "id": "view-in-github",
        "colab_type": "text"
      },
      "source": [
        "<a href=\"https://colab.research.google.com/github/EAFIT-BI/Programming-for-Business-in-Accounting-2024-1/blob/main/Visualizaci%C3%B3n.ipynb\" target=\"_parent\"><img src=\"https://colab.research.google.com/assets/colab-badge.svg\" alt=\"Open In Colab\"/></a>"
      ]
    },
    {
      "cell_type": "markdown",
      "source": [
        "#Visualización de información"
      ],
      "metadata": {
        "id": "mNafKPmI1x8g"
      }
    },
    {
      "cell_type": "markdown",
      "source": [
        "## Visualización de un solo gráfico"
      ],
      "metadata": {
        "id": "6VbSfmZ87IGB"
      }
    },
    {
      "cell_type": "code",
      "execution_count": 1,
      "metadata": {
        "id": "AUQf9isWzWzp"
      },
      "outputs": [],
      "source": [
        "import numpy as np #manejo numérico\n",
        "import matplotlib.pyplot as plt #manejo gráfico"
      ]
    },
    {
      "cell_type": "code",
      "source": [
        "# creamos un primer vector que indique los años\n",
        "\n",
        "años = np.array([2018, 2019, 2020, 2021, 2022, 2023])\n",
        "\n",
        "# creamos un segundo vector que indique el patrimonio\n",
        "#(en miles de dólares)\n",
        "\n",
        "patrimonio = np.array([200, 183, 100, 127, 200, 350])"
      ],
      "metadata": {
        "id": "58AIKCiR2YON"
      },
      "execution_count": 2,
      "outputs": []
    },
    {
      "cell_type": "code",
      "source": [
        "#configuración de las fuentes\n",
        "font1 = {'family': 'serif', 'color': 'blue', 'size':18} #definimos la primera fuente\n",
        "font2 = {'family': 'serif', 'color': 'darkred', 'size':15} #definimos la segunda fuente"
      ],
      "metadata": {
        "id": "TzLB60Ry48i5"
      },
      "execution_count": 10,
      "outputs": []
    },
    {
      "cell_type": "code",
      "source": [
        "plt.plot(años, patrimonio, color = 'black') #traza el gráfico\n",
        "plt.grid() #genera la cuadrícula\n",
        "plt.xlabel(\"Año\", fontdict = font2) #título del eje x\n",
        "plt.ylabel(\"Patrimonio\", fontdict = font2) #título del eje y\n",
        "plt.title(\"Evolución del patrimonio de la empresa ACME\", fontdict = font1) #título gráfico\n",
        "plt.show() #muestra el gráfico"
      ],
      "metadata": {
        "id": "drkm190g3U9d"
      },
      "execution_count": null,
      "outputs": []
    },
    {
      "cell_type": "markdown",
      "source": [
        "## Visualización de dos gráficos en un solo plot"
      ],
      "metadata": {
        "id": "9Q5lQCq87TqC"
      }
    },
    {
      "cell_type": "code",
      "source": [
        "# creamos un primer vector que indique los años\n",
        "\n",
        "años = np.array([2018, 2019, 2020, 2021, 2022, 2023])\n",
        "\n",
        "# creamos un segundo vector que indique el patrimonio\n",
        "#(en miles de dólares)\n",
        "\n",
        "patrimonio = np.array([200, 183, 100, 127, 200, 350])\n",
        "\n",
        "# creamos un tercer vector que indique las ventas\n",
        "#(en miles de dólares)\n",
        "\n",
        "ventas = np.array([500, 420, 305, 1000, 5000, 1001])"
      ],
      "metadata": {
        "id": "iwTOeNtz7YVh"
      },
      "execution_count": 12,
      "outputs": []
    },
    {
      "cell_type": "code",
      "source": [
        "#generamos el primer gráfico\n",
        "plt.plot(años, patrimonio, label = \"Patrimonio\", color = 'pink')\n",
        "\n",
        "#generamos el segundo gráfico\n",
        "plt.plot(años, ventas, label = \"Ventas\", color = 'purple')\n",
        "\n",
        "#etiquetamos el eje x\n",
        "plt.xlabel(\"Año\")\n",
        "\n",
        "#etiquetamos el eje y\n",
        "plt.ylabel('Miles de dólares [USD$]')\n",
        "\n",
        "#establecemos el título\n",
        "plt.title(\"Movimientos empresa A.C.M.E.\")\n",
        "\n",
        "#agregamos la cuadrícula\n",
        "plt.grid()\n",
        "\n",
        "#agregamos la leyenda al gráfico\n",
        "plt.legend()\n",
        "plt.show()"
      ],
      "metadata": {
        "id": "c3DOE4898DrA"
      },
      "execution_count": null,
      "outputs": []
    },
    {
      "cell_type": "markdown",
      "source": [
        "## Gráficos de dispersión"
      ],
      "metadata": {
        "id": "tIRSVAgN-XEs"
      }
    },
    {
      "cell_type": "code",
      "source": [
        "# creamos los datos\n",
        "\n",
        "edad = np.array([41, 22, 17, 20, 24, 18])\n",
        "\n",
        "estatura = np.array([1.59, 1.54, 1.40, 1.53, 1.62, 1.85])\n",
        "\n",
        "# definimos el gráfico\n",
        "\n",
        "plt.scatter(estatura, edad, c = 'pink', marker = '*', alpha = 0.5)\n",
        "\n",
        "# nombramos los ejes\n",
        "\n",
        "plt.xlabel(\"Estatura en metros\")\n",
        "plt.ylabel(\"Edades en años\")\n",
        "\n",
        "#nombramos el gráfico\n",
        "\n",
        "plt.title(\"Edad vs Estatura\")\n",
        "plt.grid()\n",
        "plt.show()"
      ],
      "metadata": {
        "colab": {
          "base_uri": "https://localhost:8080/",
          "height": 472
        },
        "id": "RxR8_veV-dyH",
        "outputId": "00c363de-49ce-4978-8dc0-7c1d86dcb7ef"
      },
      "execution_count": 24,
      "outputs": [
        {
          "output_type": "display_data",
          "data": {
            "text/plain": [
              "<Figure size 640x480 with 1 Axes>"
            ],
            "image/png": "[encoded data removed]"
          },
          "metadata": {}
        }
      ]
    }
  ]
}