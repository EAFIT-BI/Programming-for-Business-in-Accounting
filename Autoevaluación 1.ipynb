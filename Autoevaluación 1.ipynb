{
 "cells": [
  {
   "cell_type": "code",
   "execution_count": null,
   "metadata": {},
   "outputs": [],
   "source": [
    "# La función que deseas probar\n",
    "def crear_dataframe():\n",
    "    # Lógica para crear un DataFrame, por ejemplo, un DataFrame vacío\n",
    "    df = pd.DataFrame()\n",
    "    return df\n"
   ]
  }
 ],
 "metadata": {
  "language_info": {
   "name": "python"
  }
 },
 "nbformat": 4,
 "nbformat_minor": 2
}
